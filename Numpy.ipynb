{
 "cells": [
  {
   "cell_type": "markdown",
   "metadata": {},
   "source": [
    "# Numpy\n",
    "**Exploration of the Numpy Package**\n",
    "\n",
    "**Todo**\n",
    "* Clean up the Raw cell below"
   ]
  },
  {
   "cell_type": "code",
   "execution_count": 103,
   "metadata": {},
   "outputs": [],
   "source": [
    "import numpy as np"
   ]
  },
  {
   "cell_type": "markdown",
   "metadata": {},
   "source": [
    "Create some numpy arrays"
   ]
  },
  {
   "cell_type": "code",
   "execution_count": 99,
   "metadata": {},
   "outputs": [
    {
     "name": "stdout",
     "output_type": "stream",
     "text": [
      "State with np.array\n",
      " [[0 1 2]\n",
      " [3 4 5]]\n",
      "\n",
      "Create arange and reshape\n",
      " [[0 1 2]\n",
      " [3 4 5]]\n",
      "\n",
      "Vertically stack with np.vstack [0,1,2] and [3,4,5]\n",
      " [[0 1 2]\n",
      " [3 4 5]]\n"
     ]
    }
   ],
   "source": [
    "a = np.array([[0,1,2],[3,4,5]])\n",
    "print('State with np.array\\n', a)\n",
    "\n",
    "b = np.arange(6).reshape(2,3, order='C')  # F to order by rows \n",
    "print('\\nCreate arange and reshape\\n', b)\n",
    "\n",
    "c = np.vstack((range(3), range(3,6)))\n",
    "print('\\nVertically stack with np.vstack [0,1,2] and [3,4,5]\\n', c)"
   ]
  },
  {
   "cell_type": "markdown",
   "metadata": {},
   "source": [
    "Create some more"
   ]
  },
  {
   "cell_type": "code",
   "execution_count": 100,
   "metadata": {},
   "outputs": [
    {
     "name": "stdout",
     "output_type": "stream",
     "text": [
      "\n",
      "Full with np.full\n",
      " [[99 99 99]\n",
      " [99 99 99]]\n",
      "\n",
      "Ones with np.ones\n",
      " [[1 1 1]\n",
      " [1 1 1]]\n",
      "\n",
      "Zeros with np.zeros\n",
      " [[0 0 0]\n",
      " [0 0 0]]\n",
      "\n",
      "Identity matrix with np.eye\n",
      " [[0 1 0]\n",
      " [0 0 1]]\n",
      "\n",
      "Diagonal sliced (for 2x3 matrix) with np.diag\n",
      " [[0 1 0]\n",
      " [0 0 2]]\n",
      "\n",
      "Ones at and below the diagonal\n",
      " [[1 1 0]\n",
      " [1 1 1]]\n",
      "\n",
      "Empty with np.empty\n",
      " [[3.14 3.14 3.14]\n",
      " [3.14 3.14 3.14]]\n"
     ]
    }
   ],
   "source": [
    "full = np.full((2,3), 99)\n",
    "print('\\nFull with np.full\\n', full)\n",
    "\n",
    "ones = np.ones((2,3), dtype=int)\n",
    "print('\\nOnes with np.ones\\n', ones)\n",
    "\n",
    "zeros = np.zeros((2,3), dtype=int)\n",
    "print('\\nZeros with np.zeros\\n', zeros)\n",
    "\n",
    "eye = np.eye(2,3, k=1, dtype=int)\n",
    "print('\\nIdentity matrix with np.eye\\n', eye)\n",
    "\n",
    "diag = np.diag([1,2], k=1)[:-1]\n",
    "print('\\nDiagonal sliced (for 2x3 matrix) with np.diag\\n', diag)\n",
    "\n",
    "tri = np.tri(2, 3, k=1, dtype=int)\n",
    "print('\\nOnes at and below the diagonal\\n', tri)\n",
    "\n",
    "empty = np.empty((2,3))\n",
    "print('\\nEmpty with np.empty\\n', empty)"
   ]
  },
  {
   "cell_type": "raw",
   "metadata": {},
   "source": [
    "#%%\n",
    "import numpy as np\n",
    "\n",
    "# %%\n",
    "\n",
    "x = np.arange(12).reshape(3,4)\n",
    "x = np.random.randint(10, size=(3,4))\n",
    "m, n = x.shape\n",
    "\n",
    "\n",
    "print('x is', x)\n",
    "print('The transpose is', x.T)\n",
    "\n",
    "print('The shape is', x.shape)\n",
    "print('There are', m, 'rows and', n, 'columns')\n",
    "print('Dimensions', x.ndim)\n",
    "print('Datatype', x.dtype)\n",
    "\n",
    "print('The corners are', x[::m-1, ::n-1])\n",
    "print('The array flipped left-right and top-bottom', x[::-1, ::-1])\n",
    "print('The array flattened', x.flatten()) # x.ravel() does not create a copy\n",
    "print(x.T)\n",
    "\n",
    "# %%\n",
    "if x.all():\n",
    "    print('There are no zeros')\n",
    "else:\n",
    "    print('There is at least one zero')\n",
    "\n",
    "if x.any():\n",
    "    print('There is at least one non-zero')\n",
    "else:\n",
    "    print('All zeros')\n",
    "\n",
    "print(f'The maximum value {x.max()} occurs at position {x.argmax()}: \\\n",
    "row {x.argmax() // (x.shape[0]+1) + 1} and \\\n",
    "column {x.argmax() % (x.shape[1]) + 1}')\n",
    "\n",
    "print(f'The minimum value {x.min()} occurs at position {x.argmin()}: \\\n",
    "row {x.argmin() // (x.shape[0]+1) + 1} and \\\n",
    "column {x.argmin() % x.shape[1] + 1}')\n"
   ]
  }
 ],
 "metadata": {
  "kernelspec": {
   "display_name": "Python 3",
   "language": "python",
   "name": "python3"
  },
  "language_info": {
   "codemirror_mode": {
    "name": "ipython",
    "version": 3
   },
   "file_extension": ".py",
   "mimetype": "text/x-python",
   "name": "python",
   "nbconvert_exporter": "python",
   "pygments_lexer": "ipython3",
   "version": "3.7.4"
  }
 },
 "nbformat": 4,
 "nbformat_minor": 4
}
