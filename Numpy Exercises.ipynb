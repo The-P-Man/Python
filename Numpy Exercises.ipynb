{
 "cells": [
  {
   "cell_type": "markdown",
   "metadata": {},
   "source": [
    "# 100 Numpy Exercises\n",
    "Taken from [here](https://github.com/rougier/numpy-100/blob/master/100_Numpy_exercises.md)"
   ]
  },
  {
   "cell_type": "code",
   "execution_count": 1,
   "metadata": {},
   "outputs": [],
   "source": [
    "import numpy as np"
   ]
  },
  {
   "cell_type": "markdown",
   "metadata": {},
   "source": [
    "Print the numpy versions and configuration"
   ]
  },
  {
   "cell_type": "code",
   "execution_count": 2,
   "metadata": {},
   "outputs": [
    {
     "name": "stdout",
     "output_type": "stream",
     "text": [
      "Variable   Type      Data/Info\n",
      "------------------------------\n",
      "np         module    <module 'numpy' from 'C:\\<...>ges\\\\numpy\\\\__init__.py'>\n"
     ]
    }
   ],
   "source": [
    "%who"
   ]
  },
  {
   "cell_type": "code",
   "execution_count": 5,
   "metadata": {},
   "outputs": [
    {
     "name": "stdout",
     "output_type": "stream",
     "text": [
      "1.16.5\n"
     ]
    }
   ],
   "source": [
    "print(np.__version__)\n",
    "# np.show_config()"
   ]
  },
  {
   "cell_type": "markdown",
   "metadata": {},
   "source": [
    "Create a null vector of size 10"
   ]
  },
  {
   "cell_type": "code",
   "execution_count": 3,
   "metadata": {},
   "outputs": [
    {
     "data": {
      "text/plain": [
       "array([0, 0, 0, 0, 0, 0, 0, 0, 0, 0])"
      ]
     },
     "execution_count": 3,
     "metadata": {},
     "output_type": "execute_result"
    }
   ],
   "source": [
    "z = np.zeros(10, dtype=int)\n",
    "z"
   ]
  },
  {
   "cell_type": "markdown",
   "metadata": {},
   "source": [
    "Get the memory size of an array"
   ]
  },
  {
   "cell_type": "code",
   "execution_count": 4,
   "metadata": {},
   "outputs": [
    {
     "name": "stdout",
     "output_type": "stream",
     "text": [
      "The vector [0 0 0 0 0 0 0 0 0 0] of dtype int8 takes up 10 x 1 = 10 bytes\n",
      "The vector [0 0 0 0 0 0 0 0 0 0] of dtype int16 takes up 10 x 2 = 20 bytes\n",
      "The vector [0 0 0 0 0 0 0 0 0 0] of dtype int32 takes up 10 x 4 = 40 bytes\n"
     ]
    }
   ],
   "source": [
    "z = np.zeros(10, dtype='int8')\n",
    "print(f'The vector {z} of type {z.dtype} takes up {z.size} x {z.itemsize} = {z.nbytes} bytes')\n",
    "z = np.zeros(10, dtype='int16')\n",
    "print(f'The vector {z} of type {z.dtype} takes up {z.size} x {z.itemsize} = {z.nbytes} bytes')\n",
    "z = np.zeros(10, dtype='int32')\n",
    "print(f'The vector {z} of type {z.dtype} takes up {z.size} x {z.itemsize} = {z.nbytes} bytes')"
   ]
  },
  {
   "cell_type": "markdown",
   "metadata": {},
   "source": [
    "Make the fifth value 1"
   ]
  },
  {
   "cell_type": "code",
   "execution_count": 5,
   "metadata": {},
   "outputs": [
    {
     "data": {
      "text/plain": [
       "array([0, 0, 0, 0, 1, 0, 0, 0, 0, 0])"
      ]
     },
     "execution_count": 5,
     "metadata": {},
     "output_type": "execute_result"
    }
   ],
   "source": [
    "z[4] = 1\n",
    "z"
   ]
  },
  {
   "cell_type": "markdown",
   "metadata": {},
   "source": [
    "Create a vector from 10 to 49"
   ]
  },
  {
   "cell_type": "code",
   "execution_count": 1,
   "metadata": {},
   "outputs": [
    {
     "ename": "NameError",
     "evalue": "name 'np' is not defined",
     "output_type": "error",
     "traceback": [
      "\u001b[1;31m---------------------------------------------------------------------------\u001b[0m",
      "\u001b[1;31mNameError\u001b[0m                                 Traceback (most recent call last)",
      "\u001b[1;32m<ipython-input-1-0a92b2af2bbf>\u001b[0m in \u001b[0;36m<module>\u001b[1;34m\u001b[0m\n\u001b[1;32m----> 1\u001b[1;33m \u001b[0mz\u001b[0m \u001b[1;33m=\u001b[0m \u001b[0mnp\u001b[0m\u001b[1;33m.\u001b[0m\u001b[0marange\u001b[0m\u001b[1;33m(\u001b[0m\u001b[1;36m10\u001b[0m\u001b[1;33m,\u001b[0m \u001b[1;36m50\u001b[0m\u001b[1;33m)\u001b[0m\u001b[1;33m\u001b[0m\u001b[1;33m\u001b[0m\u001b[0m\n\u001b[0m\u001b[0;32m      2\u001b[0m \u001b[0mz\u001b[0m\u001b[1;33m\u001b[0m\u001b[1;33m\u001b[0m\u001b[0m\n",
      "\u001b[1;31mNameError\u001b[0m: name 'np' is not defined"
     ]
    }
   ],
   "source": [
    "z = np.arange(10, 50)\n",
    "z"
   ]
  },
  {
   "cell_type": "markdown",
   "metadata": {},
   "source": [
    "Reverse a vector"
   ]
  },
  {
   "cell_type": "code",
   "execution_count": 7,
   "metadata": {},
   "outputs": [
    {
     "data": {
      "text/plain": [
       "array([49, 48, 47, 46, 45, 44, 43, 42, 41, 40, 39, 38, 37, 36, 35, 34, 33,\n",
       "       32, 31, 30, 29, 28, 27, 26, 25, 24, 23, 22, 21, 20, 19, 18, 17, 16,\n",
       "       15, 14, 13, 12, 11, 10])"
      ]
     },
     "execution_count": 7,
     "metadata": {},
     "output_type": "execute_result"
    }
   ],
   "source": [
    "z[::-1]"
   ]
  },
  {
   "cell_type": "markdown",
   "metadata": {},
   "source": [
    "Create a 3 x 3 matrix from 0 to 8"
   ]
  },
  {
   "cell_type": "code",
   "execution_count": 8,
   "metadata": {},
   "outputs": [
    {
     "data": {
      "text/plain": [
       "array([[0, 1, 2],\n",
       "       [3, 4, 5],\n",
       "       [6, 7, 8]])"
      ]
     },
     "execution_count": 8,
     "metadata": {},
     "output_type": "execute_result"
    }
   ],
   "source": [
    "z = np.arange(9).reshape((3,3))\n",
    "z"
   ]
  },
  {
   "cell_type": "markdown",
   "metadata": {},
   "source": [
    "Find indices of non-zero elements"
   ]
  },
  {
   "cell_type": "code",
   "execution_count": 17,
   "metadata": {},
   "outputs": [
    {
     "name": "stdout",
     "output_type": "stream",
     "text": [
      "Take an array [1 0 0 0 0 1 1 0 0]\n",
      "The non-zero elements are at [0 5 6]\n",
      "The non-zero elements are at (array([0, 5, 6], dtype=int64),)\n",
      "The non-zero elements are at (array([0, 5, 6], dtype=int64),)\n",
      "The non-zero elements are at (array([0, 5, 6], dtype=int64),)\n",
      "The zero elements are at (array([1, 2, 3, 4, 7, 8], dtype=int64),)\n",
      "The zero elements are at (array([1, 2, 3, 4, 7, 8], dtype=int64),)\n"
     ]
    }
   ],
   "source": [
    "z = np.random.randint(0, 2, size=9)\n",
    "print('Take an array', z)\n",
    "# Index for 1D array\n",
    "print('The non-zero elements are at', np.flatnonzero(z)) \n",
    "# Index for 2D array\n",
    "print('The non-zero elements are at', np.nonzero(z))\n",
    "# nonzero is also a method\n",
    "print('The non-zero elements are at', z.nonzero())\n",
    "# Can also use np.where\n",
    "print('The non-zero elements are at', np.where(z!=0))\n",
    "# Can use np.nonzero to find any element\n",
    "print('The zero elements are at', np.nonzero(z==0))\n",
    "print('The zero elements are at', np.where(z==0))"
   ]
  },
  {
   "cell_type": "markdown",
   "metadata": {},
   "source": [
    "Create a 3x3 identity matrix"
   ]
  },
  {
   "cell_type": "code",
   "execution_count": 10,
   "metadata": {},
   "outputs": [
    {
     "data": {
      "text/plain": [
       "array([[1, 0, 0],\n",
       "       [0, 1, 0],\n",
       "       [0, 0, 1]])"
      ]
     },
     "execution_count": 10,
     "metadata": {},
     "output_type": "execute_result"
    }
   ],
   "source": [
    "np.eye(3, dtype=int)"
   ]
  },
  {
   "cell_type": "markdown",
   "metadata": {},
   "source": [
    "Create a 3x3x3 array of random values"
   ]
  },
  {
   "cell_type": "code",
   "execution_count": 11,
   "metadata": {},
   "outputs": [
    {
     "data": {
      "text/plain": [
       "array([[[0.92, 0.02, 0.07],\n",
       "        [0.94, 0.97, 0.52],\n",
       "        [0.24, 0.84, 0.18]],\n",
       "\n",
       "       [[0.01, 0.8 , 0.52],\n",
       "        [0.39, 0.8 , 0.28],\n",
       "        [0.43, 0.62, 0.17]],\n",
       "\n",
       "       [[0.09, 0.21, 0.57],\n",
       "        [0.82, 0.71, 0.25],\n",
       "        [0.18, 0.47, 0.75]]])"
      ]
     },
     "execution_count": 11,
     "metadata": {},
     "output_type": "execute_result"
    }
   ],
   "source": [
    "np.round(np.random.random((3,3,3)),2)"
   ]
  },
  {
   "cell_type": "markdown",
   "metadata": {},
   "source": [
    "Create a 10x10 array of random values and find the min and max"
   ]
  },
  {
   "cell_type": "code",
   "execution_count": 12,
   "metadata": {},
   "outputs": [
    {
     "data": {
      "text/plain": [
       "(0.002501954172831944, 0.9978928063275445)"
      ]
     },
     "execution_count": 12,
     "metadata": {},
     "output_type": "execute_result"
    }
   ],
   "source": [
    "z = np.random.random((10,10))\n",
    "zmin, zmax = z.min(), z.max()\n",
    "zmin, zmax"
   ]
  },
  {
   "cell_type": "markdown",
   "metadata": {},
   "source": [
    "Create a random vector of size 30 and find the mean"
   ]
  },
  {
   "cell_type": "code",
   "execution_count": 13,
   "metadata": {},
   "outputs": [
    {
     "data": {
      "text/plain": [
       "0.46577868719311016"
      ]
     },
     "execution_count": 13,
     "metadata": {},
     "output_type": "execute_result"
    }
   ],
   "source": [
    "z = np.random.random(30)\n",
    "z.mean()"
   ]
  },
  {
   "cell_type": "markdown",
   "metadata": {},
   "source": [
    "Create a 2D array with 1 on the boarder and 0 in the middle"
   ]
  },
  {
   "cell_type": "code",
   "execution_count": 14,
   "metadata": {},
   "outputs": [
    {
     "data": {
      "text/plain": [
       "array([[1, 1, 1, 1, 1],\n",
       "       [1, 0, 0, 0, 1],\n",
       "       [1, 0, 0, 0, 1],\n",
       "       [1, 0, 0, 0, 1],\n",
       "       [1, 1, 1, 1, 1]])"
      ]
     },
     "execution_count": 14,
     "metadata": {},
     "output_type": "execute_result"
    }
   ],
   "source": [
    "z = np.ones((5,5), dtype=int)\n",
    "z[1:-1,1:-1] = 0\n",
    "z"
   ]
  },
  {
   "cell_type": "markdown",
   "metadata": {},
   "source": [
    "Add a border of zeros around an existing array"
   ]
  },
  {
   "cell_type": "code",
   "execution_count": 15,
   "metadata": {},
   "outputs": [
    {
     "data": {
      "text/plain": [
       "array([[0, 0, 0, 0],\n",
       "       [0, 1, 2, 0],\n",
       "       [0, 3, 4, 0],\n",
       "       [0, 0, 0, 0]])"
      ]
     },
     "execution_count": 15,
     "metadata": {},
     "output_type": "execute_result"
    }
   ],
   "source": [
    "z = np.array([[1, 2], [3, 4]])\n",
    "np.pad(z, 1, mode='constant')"
   ]
  },
  {
   "cell_type": "code",
   "execution_count": 16,
   "metadata": {},
   "outputs": [
    {
     "name": "stdout",
     "output_type": "stream",
     "text": [
      "mode='edge'\n",
      "[[1 1 1 2 2 2]\n",
      " [1 1 1 2 2 2]\n",
      " [1 1 1 2 2 2]\n",
      " [3 3 3 4 4 4]\n",
      " [3 3 3 4 4 4]\n",
      " [3 3 3 4 4 4]]\n",
      "mode='minimum'\n",
      "[[1 1 1 2 1 1]\n",
      " [1 1 1 2 1 1]\n",
      " [1 1 1 2 1 1]\n",
      " [3 3 3 4 3 3]\n",
      " [1 1 1 2 1 1]\n",
      " [1 1 1 2 1 1]]\n",
      "mode='symmetric'\n",
      "[[4 3 3 4 4 3]\n",
      " [2 1 1 2 2 1]\n",
      " [2 1 1 2 2 1]\n",
      " [4 3 3 4 4 3]\n",
      " [4 3 3 4 4 3]\n",
      " [2 1 1 2 2 1]]\n",
      "mode='wrap'\n",
      "[[1 2 1 2 1 2]\n",
      " [3 4 3 4 3 4]\n",
      " [1 2 1 2 1 2]\n",
      " [3 4 3 4 3 4]\n",
      " [1 2 1 2 1 2]\n",
      " [3 4 3 4 3 4]]\n"
     ]
    }
   ],
   "source": [
    "# You can also pad with different modes such as constant, edge, linear_ramp, min/maximum, mean, median, reflect, symmetric, wrap\n",
    "print(\"mode='edge'\")\n",
    "print(np.pad(z, 2, 'edge'))\n",
    "print(\"mode='minimum'\")\n",
    "print(np.pad(z, 2, 'minimum'))\n",
    "print(\"mode='symmetric'\")\n",
    "print(np.pad(z, 2, 'symmetric'))\n",
    "print(\"mode='wrap'\")\n",
    "print(np.pad(z, 2, 'wrap'))\n"
   ]
  },
  {
   "cell_type": "markdown",
   "metadata": {},
   "source": [
    "What is the result of expressions using `np.nan`?"
   ]
  },
  {
   "cell_type": "code",
   "execution_count": 25,
   "metadata": {},
   "outputs": [
    {
     "name": "stdout",
     "output_type": "stream",
     "text": [
      "3 * np.nan = nan\n",
      "np.nan + 3 = nan\n",
      "min(np.nan, 3) = nan\n",
      "np.inf > np.nan = False\n",
      "np.nan == np.nan = False\n"
     ]
    },
    {
     "data": {
      "text/plain": [
       "True"
      ]
     },
     "execution_count": 25,
     "metadata": {},
     "output_type": "execute_result"
    }
   ],
   "source": [
    "# Mathematical operations using nan, equal nan\n",
    "print('3 * np.nan =', 3 * np.nan)\n",
    "print('np.nan + 3 =', 3 + np.nan)\n",
    "print('min(np.nan, 3) =', min(np.nan,3))\n",
    "\n",
    "# Booleans become false\n",
    "print('np.inf > np.nan =', np.inf > np.nan)\n",
    "print('np.nan == np.nan =', np.nan == np.nan)\n",
    "\n",
    "# But you can check if nan is in a collection object\n",
    "np.nan in [1, 2, 3, np.nan]"
   ]
  },
  {
   "cell_type": "markdown",
   "metadata": {},
   "source": [
    "Create a 5x5 matrix with 1, 2, 3, 4 just below the diagonal"
   ]
  },
  {
   "cell_type": "code",
   "execution_count": 26,
   "metadata": {},
   "outputs": [
    {
     "data": {
      "text/plain": [
       "array([[0, 0, 0, 0, 0],\n",
       "       [1, 0, 0, 0, 0],\n",
       "       [0, 2, 0, 0, 0],\n",
       "       [0, 0, 3, 0, 0],\n",
       "       [0, 0, 0, 4, 0]])"
      ]
     },
     "execution_count": 26,
     "metadata": {},
     "output_type": "execute_result"
    }
   ],
   "source": [
    "np.diag(range(1,5), k=-1)"
   ]
  },
  {
   "cell_type": "markdown",
   "metadata": {},
   "source": [
    "Create an 8x8 checkerboard pattern"
   ]
  },
  {
   "cell_type": "code",
   "execution_count": 54,
   "metadata": {},
   "outputs": [
    {
     "name": "stdout",
     "output_type": "stream",
     "text": [
      "Method 1 - Set Alternate Elements\n",
      "[[0 1 0 1 0 1 0 1]\n",
      " [1 0 1 0 1 0 1 0]\n",
      " [0 1 0 1 0 1 0 1]\n",
      " [1 0 1 0 1 0 1 0]\n",
      " [0 1 0 1 0 1 0 1]\n",
      " [1 0 1 0 1 0 1 0]\n",
      " [0 1 0 1 0 1 0 1]\n",
      " [1 0 1 0 1 0 1 0]]\n",
      "Method 2 - Tile Identity Matrix\n",
      "[[1 0 1 0 1 0 1 0]\n",
      " [0 1 0 1 0 1 0 1]\n",
      " [1 0 1 0 1 0 1 0]\n",
      " [0 1 0 1 0 1 0 1]\n",
      " [1 0 1 0 1 0 1 0]\n",
      " [0 1 0 1 0 1 0 1]\n",
      " [1 0 1 0 1 0 1 0]\n",
      " [0 1 0 1 0 1 0 1]]\n",
      "Method 3 - Pad (reflect mode) Identity Matrix\n",
      "[[1 0 1 0 1 0 1 0]\n",
      " [0 1 0 1 0 1 0 1]\n",
      " [1 0 1 0 1 0 1 0]\n",
      " [0 1 0 1 0 1 0 1]\n",
      " [1 0 1 0 1 0 1 0]\n",
      " [0 1 0 1 0 1 0 1]\n",
      " [1 0 1 0 1 0 1 0]\n",
      " [0 1 0 1 0 1 0 1]]\n"
     ]
    }
   ],
   "source": [
    "print('Method 1 - Set Alternate Elements')\n",
    "z = np.zeros((8,8), dtype=int)\n",
    "z[::2,1::2] = 1\n",
    "z[1::2,::2] = 1\n",
    "print(z)\n",
    "\n",
    "print('Method 2 - Tile Identity Matrix')\n",
    "z = np.tile(np.eye(2, dtype=int), (4,4))\n",
    "print(z)\n",
    "\n",
    "print('Method 3 - Pad (reflect mode) Identity Matrix')\n",
    "np.pad(np.eye(2, dtype=int), 3, mode='reflect')\n",
    "print(z)"
   ]
  },
  {
   "cell_type": "markdown",
   "metadata": {},
   "source": [
    "Normalize a 5x5 Matrix"
   ]
  },
  {
   "cell_type": "code",
   "execution_count": 64,
   "metadata": {},
   "outputs": [
    {
     "name": "stdout",
     "output_type": "stream",
     "text": [
      "z is [[0.06609379 0.39518211 0.63287643 0.15711136 0.98995194]\n",
      " [0.36748568 0.52295616 0.11786199 0.09628768 0.07920712]\n",
      " [0.79114262 0.22097182 0.51037233 0.43329857 0.15981199]\n",
      " [0.69727677 0.67124343 0.10001057 0.86560445 0.02867618]\n",
      " [0.75956445 0.09116535 0.63379101 0.52762279 0.99131103]]\n",
      "Z is [[-1.21030931 -0.13435371  0.64278883 -0.91272698  1.81024864]\n",
      " [-0.22490729  0.28340407 -1.04105296 -1.11159027 -1.16743522]\n",
      " [ 1.16024076 -0.70393495  0.24226119 -0.0097318  -0.90389727]\n",
      " [ 0.85334599  0.76822989 -1.09941824  1.40369402 -1.33264632]\n",
      " [ 1.05699582 -1.12833774  0.64577904  0.29866161  1.81469219]]\n"
     ]
    }
   ],
   "source": [
    "z = np.random.random((5,5))\n",
    "print('z is', z)\n",
    "\n",
    "# Normalize\n",
    "z = (z - z.mean()) / z.std()\n",
    "print('Z is', z)"
   ]
  },
  {
   "cell_type": "markdown",
   "metadata": {},
   "source": [
    "Create a custom dtype to describe a color as 4 unsigned bytes"
   ]
  },
  {
   "cell_type": "code",
   "execution_count": 71,
   "metadata": {},
   "outputs": [
    {
     "data": {
      "text/plain": [
       "dtype([('R', 'u1'), ('G', 'u1'), ('B', 'u1'), ('A', 'u1')])"
      ]
     },
     "execution_count": 71,
     "metadata": {},
     "output_type": "execute_result"
    }
   ],
   "source": [
    "color = np.dtype([('R', np.ubyte),\n",
    "                  ('G', np.ubyte),\n",
    "                  ('B', np.ubyte),\n",
    "                  ('A', np.ubyte)])\n",
    "color"
   ]
  },
  {
   "cell_type": "code",
   "execution_count": 97,
   "metadata": {},
   "outputs": [
    {
     "data": {
      "text/plain": [
       "array([(255, 0, 0, 0)],\n",
       "      dtype=[('R', 'u1'), ('G', 'u1'), ('B', 'u1'), ('A', 'u1')])"
      ]
     },
     "execution_count": 97,
     "metadata": {},
     "output_type": "execute_result"
    }
   ],
   "source": [
    "z = np.array([(255, 0, 0, 0)], dtype=color)\n",
    "z"
   ]
  },
  {
   "cell_type": "markdown",
   "metadata": {},
   "source": [
    "Multiply a 3x5 matrix with a 5x2 matrix"
   ]
  },
  {
   "cell_type": "code",
   "execution_count": 257,
   "metadata": {},
   "outputs": [
    {
     "name": "stdout",
     "output_type": "stream",
     "text": [
      "A x B = [[138 102]\n",
      " [118 149]\n",
      " [124 148]]\n",
      "A x B = [[138 102]\n",
      " [118 149]\n",
      " [124 148]]\n"
     ]
    },
    {
     "ename": "ValueError",
     "evalue": "operands could not be broadcast together with shapes (3,5) (5,2) ",
     "output_type": "error",
     "traceback": [
      "\u001b[1;31m---------------------------------------------------------------------------\u001b[0m",
      "\u001b[1;31mValueError\u001b[0m                                Traceback (most recent call last)",
      "\u001b[1;32m<ipython-input-257-87f4e71738bc>\u001b[0m in \u001b[0;36m<module>\u001b[1;34m\u001b[0m\n\u001b[0;32m      3\u001b[0m \u001b[0mprint\u001b[0m\u001b[1;33m(\u001b[0m\u001b[1;34m'A x B ='\u001b[0m\u001b[1;33m,\u001b[0m \u001b[0mnp\u001b[0m\u001b[1;33m.\u001b[0m\u001b[0mdot\u001b[0m\u001b[1;33m(\u001b[0m\u001b[0mA\u001b[0m\u001b[1;33m,\u001b[0m \u001b[0mB\u001b[0m\u001b[1;33m)\u001b[0m\u001b[1;33m)\u001b[0m\u001b[1;33m\u001b[0m\u001b[1;33m\u001b[0m\u001b[0m\n\u001b[0;32m      4\u001b[0m \u001b[0mprint\u001b[0m\u001b[1;33m(\u001b[0m\u001b[1;34m'A x B ='\u001b[0m\u001b[1;33m,\u001b[0m \u001b[0mA\u001b[0m \u001b[1;33m@\u001b[0m \u001b[0mB\u001b[0m\u001b[1;33m)\u001b[0m\u001b[1;33m\u001b[0m\u001b[1;33m\u001b[0m\u001b[0m\n\u001b[1;32m----> 5\u001b[1;33m \u001b[0mprint\u001b[0m\u001b[1;33m(\u001b[0m\u001b[1;34m'A x B ='\u001b[0m\u001b[1;33m,\u001b[0m \u001b[0mnp\u001b[0m\u001b[1;33m.\u001b[0m\u001b[0mmultiply\u001b[0m\u001b[1;33m(\u001b[0m\u001b[0mA\u001b[0m\u001b[1;33m,\u001b[0m \u001b[0mB\u001b[0m\u001b[1;33m)\u001b[0m\u001b[1;33m)\u001b[0m\u001b[1;33m\u001b[0m\u001b[1;33m\u001b[0m\u001b[0m\n\u001b[0m",
      "\u001b[1;31mValueError\u001b[0m: operands could not be broadcast together with shapes (3,5) (5,2) "
     ]
    }
   ],
   "source": [
    "A = np.random.randint(10, size=(3,5))\n",
    "B = np.random.randint(10, size=(5,2))\n",
    "print('A x B =', np.dot(A, B))\n",
    "print('A x B =', A @ B)"
   ]
  },
  {
   "cell_type": "markdown",
   "metadata": {},
   "source": [
    "Negate all elements between 3 and 8"
   ]
  },
  {
   "cell_type": "code",
   "execution_count": 118,
   "metadata": {},
   "outputs": [
    {
     "data": {
      "text/plain": [
       "array([ 0,  1,  2,  3, -4, -5, -6, -7,  8,  9, 10])"
      ]
     },
     "execution_count": 118,
     "metadata": {},
     "output_type": "execute_result"
    }
   ],
   "source": [
    "z = np.arange(11)\n",
    "z[(z > 3) & (z < 8)] *= -1\n",
    "z"
   ]
  },
  {
   "cell_type": "markdown",
   "metadata": {},
   "source": [
    "Compare the output"
   ]
  },
  {
   "cell_type": "code",
   "execution_count": 123,
   "metadata": {},
   "outputs": [
    {
     "data": {
      "text/plain": [
       "10"
      ]
     },
     "execution_count": 123,
     "metadata": {},
     "output_type": "execute_result"
    }
   ],
   "source": [
    "sum(range(5), -1)\n",
    "# 9\n",
    "np.sum(range(5), -1)\n",
    "# 10"
   ]
  },
  {
   "cell_type": "markdown",
   "metadata": {},
   "source": [
    "Which are legal for an integer vector?"
   ]
  },
  {
   "cell_type": "code",
   "execution_count": 145,
   "metadata": {},
   "outputs": [
    {
     "name": "stdout",
     "output_type": "stream",
     "text": [
      "z ** z = [   1    1    4   27  256 3125]\n",
      "z << 2 = [ 0  4  8 12 16 20]\n",
      "z <- z = [False False False False False False]\n",
      "1j * z = [0.+0.j 0.+1.j 0.+2.j 0.+3.j 0.+4.j 0.+5.j]\n",
      "z / 1 / 1 = [0. 1. 2. 3. 4. 5.]\n"
     ]
    }
   ],
   "source": [
    "z = np.arange(6)\n",
    "print('z ** z =', z ** z)\n",
    "# Divide each element by 2^2\n",
    "print('z << 2 =', z << 2)\n",
    "print('z <- z =', z < -z)\n",
    "print('1j * z =', 1j * z)\n",
    "print('z / 1 / 1 =', z / 1 / 1)"
   ]
  },
  {
   "cell_type": "markdown",
   "metadata": {},
   "source": [
    "What are the results of the following expressions?"
   ]
  },
  {
   "cell_type": "code",
   "execution_count": 156,
   "metadata": {},
   "outputs": [
    {
     "name": "stdout",
     "output_type": "stream",
     "text": [
      "nan\n",
      "0\n",
      "-2147483648\n"
     ]
    },
    {
     "name": "stderr",
     "output_type": "stream",
     "text": [
      "C:\\Users\\Philip\\Anaconda3\\lib\\site-packages\\ipykernel_launcher.py:1: RuntimeWarning: invalid value encountered in true_divide\n",
      "  \"\"\"Entry point for launching an IPython kernel.\n",
      "C:\\Users\\Philip\\Anaconda3\\lib\\site-packages\\ipykernel_launcher.py:3: RuntimeWarning: divide by zero encountered in floor_divide\n",
      "  This is separate from the ipykernel package so we can avoid doing imports until\n"
     ]
    }
   ],
   "source": [
    "print(np.array(0) / np.array(0))\n",
    "# nan ...and a warning\n",
    "print(np.array(0) // np.array(0))\n",
    "# 0 ...and another warning\n",
    "print(np.array(np.nan).astype(int))\n",
    "# -2147483648 ... = 2 ^ 31\n"
   ]
  },
  {
   "cell_type": "markdown",
   "metadata": {},
   "source": [
    "How to round away from zero"
   ]
  },
  {
   "cell_type": "code",
   "execution_count": 163,
   "metadata": {},
   "outputs": [
    {
     "name": "stdout",
     "output_type": "stream",
     "text": [
      "z = [ 3.28799693 -4.94836598  7.88208664  2.25879557  7.59125414 -2.94327853\n",
      "  0.24919431  7.35534802 -1.77171041 -7.66066915]\n",
      "z rounded away from 0 = [ 4. -5.  8.  3.  8. -3.  1.  8. -2. -8.]\n"
     ]
    }
   ],
   "source": [
    "z = np.random.uniform(-10, 10, 10)\n",
    "print('z =', z)\n",
    "z = np.copysign(np.ceil(np.abs(z)), z)\n",
    "print('z rounded away from 0 =', z)"
   ]
  },
  {
   "cell_type": "code",
   "execution_count": 168,
   "metadata": {},
   "outputs": [
    {
     "name": "stderr",
     "output_type": "stream",
     "text": [
      "C:\\Users\\Philip\\Anaconda3\\lib\\site-packages\\ipykernel_launcher.py:3: RuntimeWarning: divide by zero encountered in true_divide\n",
      "  This is separate from the ipykernel package so we can avoid doing imports until\n"
     ]
    }
   ],
   "source": [
    "# Suicide mode on\n",
    "# defaults = np.seterr(all=\"ignore\")\n",
    "Z = np.ones(1) / 0\n",
    "\n",
    "# Back to sanity\n",
    "# _ = np.seterr(**defaults)"
   ]
  },
  {
   "cell_type": "code",
   "execution_count": 169,
   "metadata": {},
   "outputs": [],
   "source": [
    "with np.errstate(divide='ignore'):\n",
    "    z = np.ones(1) / 0"
   ]
  },
  {
   "cell_type": "code",
   "execution_count": 177,
   "metadata": {},
   "outputs": [
    {
     "name": "stdout",
     "output_type": "stream",
     "text": [
      "np.sqrt(-1) = nan\n",
      "np.emath.sqrt(-1) = 1j\n",
      "np.sqrt(-1) == np.emath.sqrt(-1) False\n"
     ]
    },
    {
     "name": "stderr",
     "output_type": "stream",
     "text": [
      "C:\\Users\\Philip\\Anaconda3\\lib\\site-packages\\ipykernel_launcher.py:1: RuntimeWarning: invalid value encountered in sqrt\n",
      "  \"\"\"Entry point for launching an IPython kernel.\n",
      "C:\\Users\\Philip\\Anaconda3\\lib\\site-packages\\ipykernel_launcher.py:5: RuntimeWarning: invalid value encountered in sqrt\n",
      "  \"\"\"\n"
     ]
    }
   ],
   "source": [
    "print('np.sqrt(-1) =', np.sqrt(-1))\n",
    "# np.nan\n",
    "print('np.emath.sqrt(-1) =', np.emath.sqrt(-1))\n",
    "# 1j\n",
    "print('np.sqrt(-1) == np.emath.sqrt(-1)', np.sqrt(-1) == np.emath.sqrt(-1))"
   ]
  },
  {
   "cell_type": "markdown",
   "metadata": {},
   "source": [
    "Get the datetime of today, yesterday and tomorrow"
   ]
  },
  {
   "cell_type": "code",
   "execution_count": 231,
   "metadata": {},
   "outputs": [
    {
     "name": "stdout",
     "output_type": "stream",
     "text": [
      "Today is 2019-12-27\n",
      "Yesterday is 2019-12-26\n",
      "Tomorrow is 2019-12-28\n"
     ]
    }
   ],
   "source": [
    "print('Today is', np.datetime64('today'))\n",
    "print('Yesterday is', np.datetime64('today') - np.timedelta64(1))\n",
    "print('Tomorrow is', np.datetime64('today') + np.timedelta64(1))"
   ]
  },
  {
   "cell_type": "code",
   "execution_count": 255,
   "metadata": {},
   "outputs": [
    {
     "name": "stdout",
     "output_type": "stream",
     "text": [
      "It is 29 days days until my birthday\n"
     ]
    }
   ],
   "source": [
    "print('It is', np.datetime64('2020-01-25') - np.datetime64('today'), 'days until my birthday')"
   ]
  },
  {
   "cell_type": "markdown",
   "metadata": {},
   "source": [
    "Get all days in January 2020"
   ]
  },
  {
   "cell_type": "code",
   "execution_count": 222,
   "metadata": {},
   "outputs": [
    {
     "data": {
      "text/plain": [
       "array(['2020-01-01', '2020-01-02', '2020-01-03', '2020-01-04',\n",
       "       '2020-01-05', '2020-01-06', '2020-01-07', '2020-01-08',\n",
       "       '2020-01-09', '2020-01-10', '2020-01-11', '2020-01-12',\n",
       "       '2020-01-13', '2020-01-14', '2020-01-15', '2020-01-16',\n",
       "       '2020-01-17', '2020-01-18', '2020-01-19', '2020-01-20',\n",
       "       '2020-01-21', '2020-01-22', '2020-01-23', '2020-01-24',\n",
       "       '2020-01-25', '2020-01-26', '2020-01-27', '2020-01-28',\n",
       "       '2020-01-29', '2020-01-30', '2020-01-31'], dtype='datetime64[D]')"
      ]
     },
     "execution_count": 222,
     "metadata": {},
     "output_type": "execute_result"
    }
   ],
   "source": [
    "today = np.datetime64('2020-01')\n",
    "month = np.timedelta64(1, 'M')\n",
    "np.arange(today, today + month, dtype='datetime64[D]')\n",
    "# np.arange('2020-01-01', '2020-02-01', dtype='datetime64')"
   ]
  },
  {
   "cell_type": "markdown",
   "metadata": {},
   "source": [
    "Compute ((A+B)*(-A/2)) in place (without copy)?"
   ]
  },
  {
   "cell_type": "code",
   "execution_count": 268,
   "metadata": {},
   "outputs": [
    {
     "name": "stdout",
     "output_type": "stream",
     "text": [
      "[-1.5 -1.5 -1.5]\n",
      "[-1.5 -1.5 -1.5]\n"
     ]
    }
   ],
   "source": [
    "A = 1 * np.ones(3)\n",
    "B = 2 * np.ones(3)\n",
    "\n",
    "print((A+B) * (-A/2))\n",
    "\n",
    "# In place\n",
    "np.add(A, B, out=B)\n",
    "np.divide(-A, 2, out=A)\n",
    "np.multiply(A, B, out=A)\n",
    "print(A)"
   ]
  },
  {
   "cell_type": "markdown",
   "metadata": {},
   "source": [
    "Extract the integer part of an array"
   ]
  },
  {
   "cell_type": "code",
   "execution_count": 281,
   "metadata": {},
   "outputs": [
    {
     "name": "stdout",
     "output_type": "stream",
     "text": [
      "[-7.33 -7.7   3.76 -0.8   0.92  6.03 -0.56 -9.43 -3.88 -5.75]\n",
      "[ -8.  -8.   3.  -1.   0.   6.  -1. -10.  -4.  -6.]\n",
      "[ -8.  -8.   3.  -1.   0.   6.  -1. -10.  -4.  -6.]\n",
      "[ -8.  -8.   3.  -1.   0.   6.  -1. -10.  -4.  -6.]\n",
      "[ -8.  -8.   3.  -1.   0.   6.  -1. -10.  -4.  -6.]\n",
      "[-7. -7.  3. -0.  0.  6. -0. -9. -3. -5.]\n",
      "[-7 -7  3  0  0  6  0 -9 -3 -5]\n"
     ]
    }
   ],
   "source": [
    "z = np.round(np.random.uniform(-10,10,10), 2)\n",
    "print(z)\n",
    "# Round down\n",
    "print(z - z%1)\n",
    "# Round down\n",
    "print(z // 1)\n",
    "# Round down\n",
    "print(np.floor(z))\n",
    "# Round down\n",
    "print(np.ceil(z)-1)\n",
    "# Remove the fractional part -> move closer to zero\n",
    "print(np.trunc(z))\n",
    "# Remove the fractional part -> move closer to zero\n",
    "print(z.astype(int))"
   ]
  },
  {
   "cell_type": "markdown",
   "metadata": {},
   "source": [
    "Create a 5x5 matrix with row values ranging from 0 to 4"
   ]
  },
  {
   "cell_type": "code",
   "execution_count": 292,
   "metadata": {},
   "outputs": [
    {
     "data": {
      "text/plain": [
       "array([[0, 1, 2, 3, 4],\n",
       "       [0, 1, 2, 3, 4],\n",
       "       [0, 1, 2, 3, 4],\n",
       "       [0, 1, 2, 3, 4],\n",
       "       [0, 1, 2, 3, 4]])"
      ]
     },
     "execution_count": 292,
     "metadata": {},
     "output_type": "execute_result"
    }
   ],
   "source": [
    "z = np.tile(np.arange(5), (5,1))\n",
    "print(z)"
   ]
  },
  {
   "cell_type": "code",
   "execution_count": null,
   "metadata": {},
   "outputs": [],
   "source": [
    "print('hello world')\n"
   ]
  },
  {
   "cell_type": "code",
   "execution_count": 6,
   "metadata": {},
   "outputs": [
    {
     "name": "stdout",
     "output_type": "stream",
     "text": [
      "test\n"
     ]
    }
   ],
   "source": [
    "a = 'test'\n",
    "print(a)"
   ]
  },
  {
   "cell_type": "code",
   "execution_count": null,
   "metadata": {},
   "outputs": [],
   "source": [
    "test"
   ]
  },
  {
   "cell_type": "code",
   "execution_count": null,
   "metadata": {},
   "outputs": [],
   "source": []
  }
 ],
 "metadata": {
  "kernelspec": {
   "display_name": "Python 3",
   "language": "python",
   "name": "python3"
  },
  "language_info": {
   "codemirror_mode": {
    "name": "ipython",
    "version": 3
   },
   "file_extension": ".py",
   "mimetype": "text/x-python",
   "name": "python",
   "nbconvert_exporter": "python",
   "pygments_lexer": "ipython3",
   "version": "3.7.4"
  }
 },
 "nbformat": 4,
 "nbformat_minor": 4
}
