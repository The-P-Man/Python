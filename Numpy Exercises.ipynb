{
 "cells": [
  {
   "cell_type": "markdown",
   "metadata": {},
   "source": [
    "# 100 Numpy Exercises\n",
    "Taken from [here](https://github.com/rougier/numpy-100/blob/master/100_Numpy_exercises.md)"
   ]
  },
  {
   "cell_type": "code",
   "execution_count": 1,
   "metadata": {},
   "outputs": [],
   "source": [
    "import numpy as np"
   ]
  },
  {
   "cell_type": "markdown",
   "metadata": {},
   "source": [
    "Print the numpy versions and configuration"
   ]
  },
  {
   "cell_type": "code",
   "execution_count": 5,
   "metadata": {},
   "outputs": [
    {
     "name": "stdout",
     "output_type": "stream",
     "text": [
      "1.16.5\n"
     ]
    }
   ],
   "source": [
    "print(np.__version__)\n",
    "# np.show_config()"
   ]
  },
  {
   "cell_type": "markdown",
   "metadata": {},
   "source": [
    "Create a null vector of size 10"
   ]
  },
  {
   "cell_type": "code",
   "execution_count": 3,
   "metadata": {},
   "outputs": [
    {
     "data": {
      "text/plain": "array([0, 0, 0, 0, 0, 0, 0, 0, 0, 0])"
     },
     "execution_count": 3,
     "metadata": {},
     "output_type": "execute_result"
    }
   ],
   "source": [
    "z = np.zeros(10, dtype=int)\n",
    "z"
   ]
  },
  {
   "cell_type": "markdown",
   "metadata": {},
   "source": [
    "Get the memory size of an array"
   ]
  },
  {
   "cell_type": "code",
   "execution_count": 4,
   "metadata": {},
   "outputs": [
    {
     "name": "stdout",
     "output_type": "stream",
     "text": "The vector [0 0 0 0 0 0 0 0 0 0] of type int8 takes up 10 x 1 = 10 bytes\nThe vector [0 0 0 0 0 0 0 0 0 0] of type int16 takes up 10 x 2 = 20 bytes\nThe vector [0 0 0 0 0 0 0 0 0 0] of type int32 takes up 10 x 4 = 40 bytes\n"
    }
   ],
   "source": [
    "z = np.zeros(10, dtype='int8')\n",
    "print(f'The vector {z} of type {z.dtype} takes up {z.size} x {z.itemsize} = {z.nbytes} bytes')\n",
    "z = np.zeros(10, dtype='int16')\n",
    "print(f'The vector {z} of type {z.dtype} takes up {z.size} x {z.itemsize} = {z.nbytes} bytes')\n",
    "z = np.zeros(10, dtype='int32')\n",
    "print(f'The vector {z} of type {z.dtype} takes up {z.size} x {z.itemsize} = {z.nbytes} bytes')"
   ]
  },
  {
   "cell_type": "markdown",
   "metadata": {},
   "source": [
    "Make the fifth value 1"
   ]
  },
  {
   "cell_type": "code",
   "execution_count": 5,
   "metadata": {},
   "outputs": [
    {
     "data": {
      "text/plain": "array([0, 0, 0, 0, 1, 0, 0, 0, 0, 0])"
     },
     "execution_count": 5,
     "metadata": {},
     "output_type": "execute_result"
    }
   ],
   "source": [
    "z[4] = 1\n",
    "z"
   ]
  },
  {
   "cell_type": "markdown",
   "metadata": {},
   "source": [
    "Create a vector from 10 to 49"
   ]
  },
  {
   "cell_type": "code",
   "execution_count": 6,
   "metadata": {},
   "outputs": [
    {
     "data": {
      "text/plain": "array([10, 11, 12, 13, 14, 15, 16, 17, 18, 19, 20, 21, 22, 23, 24, 25, 26,\n       27, 28, 29, 30, 31, 32, 33, 34, 35, 36, 37, 38, 39, 40, 41, 42, 43,\n       44, 45, 46, 47, 48, 49])"
     },
     "execution_count": 6,
     "metadata": {},
     "output_type": "execute_result"
    }
   ],
   "source": [
    "z = np.arange(10, 50)\n",
    "z"
   ]
  },
  {
   "cell_type": "markdown",
   "metadata": {},
   "source": [
    "Reverse a vector"
   ]
  },
  {
   "cell_type": "code",
   "execution_count": 7,
   "metadata": {},
   "outputs": [
    {
     "data": {
      "text/plain": "array([49, 48, 47, 46, 45, 44, 43, 42, 41, 40, 39, 38, 37, 36, 35, 34, 33,\n       32, 31, 30, 29, 28, 27, 26, 25, 24, 23, 22, 21, 20, 19, 18, 17, 16,\n       15, 14, 13, 12, 11, 10])"
     },
     "execution_count": 7,
     "metadata": {},
     "output_type": "execute_result"
    }
   ],
   "source": [
    "z[::-1]"
   ]
  },
  {
   "cell_type": "markdown",
   "metadata": {},
   "source": [
    "Create a 3 x 3 matrix from 0 to 8"
   ]
  },
  {
   "cell_type": "code",
   "execution_count": 8,
   "metadata": {},
   "outputs": [
    {
     "data": {
      "text/plain": "array([[0, 1, 2],\n       [3, 4, 5],\n       [6, 7, 8]])"
     },
     "execution_count": 8,
     "metadata": {},
     "output_type": "execute_result"
    }
   ],
   "source": [
    "z = np.arange(9).reshape((3,3))\n",
    "z"
   ]
  },
  {
   "cell_type": "markdown",
   "metadata": {},
   "source": [
    "Find indices of non-zero elements"
   ]
  },
  {
   "cell_type": "code",
   "execution_count": 9,
   "metadata": {},
   "outputs": [
    {
     "name": "stdout",
     "output_type": "stream",
     "text": "Take an array [0 1 1 0 1 0 1 1 0]\nThe non-zero elements are at [1 2 4 6 7]\nThe non-zero elements are at (array([1, 2, 4, 6, 7], dtype=int64),)\nThe non-zero elements are at (array([1, 2, 4, 6, 7], dtype=int64),)\nThe non-zero elements are at (array([1, 2, 4, 6, 7], dtype=int64),)\nThe zero elements are at (array([0, 3, 5, 8], dtype=int64),)\nThe zero elements are at (array([0, 3, 5, 8], dtype=int64),)\n"
    }
   ],
   "source": [
    "z = np.random.randint(0, 2, size=9)\n",
    "print('Take an array', z)\n",
    "# Index for 1D array\n",
    "print('The non-zero elements are at', np.flatnonzero(z)) \n",
    "# Index for 2D array\n",
    "print('The non-zero elements are at', np.nonzero(z))\n",
    "# nonzero is also a method\n",
    "print('The non-zero elements are at', z.nonzero())\n",
    "# Can also use np.where\n",
    "print('The non-zero elements are at', np.where(z!=0))\n",
    "# Can use np.nonzero to find any element\n",
    "print('The zero elements are at', np.nonzero(z==0))\n",
    "print('The zero elements are at', np.where(z==0))"
   ]
  },
  {
   "cell_type": "markdown",
   "metadata": {},
   "source": [
    "Create a 3x3 identity matrix"
   ]
  },
  {
   "cell_type": "code",
   "execution_count": 10,
   "metadata": {},
   "outputs": [
    {
     "data": {
      "text/plain": "array([[1, 0, 0],\n       [0, 1, 0],\n       [0, 0, 1]])"
     },
     "execution_count": 10,
     "metadata": {},
     "output_type": "execute_result"
    }
   ],
   "source": [
    "np.eye(3, dtype=int)"
   ]
  },
  {
   "cell_type": "markdown",
   "metadata": {},
   "source": [
    "Create a 3x3x3 array of random values"
   ]
  },
  {
   "cell_type": "code",
   "execution_count": 11,
   "metadata": {},
   "outputs": [
    {
     "data": {
      "text/plain": "array([[[0.28, 0.89, 0.35],\n        [0.94, 0.59, 0.33],\n        [0.59, 0.69, 0.61]],\n\n       [[0.55, 0.19, 0.16],\n        [0.29, 0.43, 0.4 ],\n        [0.8 , 0.32, 0.06]],\n\n       [[0.68, 0.66, 0.24],\n        [0.84, 0.47, 0.66],\n        [0.62, 0.05, 0.98]]])"
     },
     "execution_count": 11,
     "metadata": {},
     "output_type": "execute_result"
    }
   ],
   "source": [
    "np.round(np.random.random((3,3,3)),2)"
   ]
  },
  {
   "cell_type": "markdown",
   "metadata": {},
   "source": [
    "Create a 10x10 array of random values and find the min and max"
   ]
  },
  {
   "cell_type": "code",
   "execution_count": 12,
   "metadata": {},
   "outputs": [
    {
     "data": {
      "text/plain": "(0.0039984561808886765, 0.9719619958702276)"
     },
     "execution_count": 12,
     "metadata": {},
     "output_type": "execute_result"
    }
   ],
   "source": [
    "z = np.random.random((10,10))\n",
    "zmin, zmax = z.min(), z.max()\n",
    "zmin, zmax"
   ]
  },
  {
   "cell_type": "markdown",
   "metadata": {},
   "source": [
    "Create a random vector of size 30 and find the mean"
   ]
  },
  {
   "cell_type": "code",
   "execution_count": 13,
   "metadata": {},
   "outputs": [
    {
     "data": {
      "text/plain": "0.4978470075515477"
     },
     "execution_count": 13,
     "metadata": {},
     "output_type": "execute_result"
    }
   ],
   "source": [
    "z = np.random.random(30)\n",
    "z.mean()"
   ]
  },
  {
   "cell_type": "markdown",
   "metadata": {},
   "source": [
    "Create a 2D array with 1 on the boarder and 0 in the middle"
   ]
  },
  {
   "cell_type": "code",
   "execution_count": 14,
   "metadata": {},
   "outputs": [
    {
     "data": {
      "text/plain": "array([[1, 1, 1, 1, 1],\n       [1, 0, 0, 0, 1],\n       [1, 0, 0, 0, 1],\n       [1, 0, 0, 0, 1],\n       [1, 1, 1, 1, 1]])"
     },
     "execution_count": 14,
     "metadata": {},
     "output_type": "execute_result"
    }
   ],
   "source": [
    "z = np.ones((5,5), dtype=int)\n",
    "z[1:-1,1:-1] = 0\n",
    "z"
   ]
  },
  {
   "cell_type": "markdown",
   "metadata": {},
   "source": [
    "Add a border of zeros around an existing array"
   ]
  },
  {
   "cell_type": "code",
   "execution_count": 15,
   "metadata": {},
   "outputs": [
    {
     "data": {
      "text/plain": "array([[0, 0, 0, 0],\n       [0, 1, 2, 0],\n       [0, 3, 4, 0],\n       [0, 0, 0, 0]])"
     },
     "execution_count": 15,
     "metadata": {},
     "output_type": "execute_result"
    }
   ],
   "source": [
    "z = np.array([[1, 2], [3, 4]])\n",
    "np.pad(z, 1, mode='constant')"
   ]
  },
  {
   "cell_type": "code",
   "execution_count": 16,
   "metadata": {},
   "outputs": [
    {
     "name": "stdout",
     "output_type": "stream",
     "text": "mode='edge'\n[[1 1 1 2 2 2]\n [1 1 1 2 2 2]\n [1 1 1 2 2 2]\n [3 3 3 4 4 4]\n [3 3 3 4 4 4]\n [3 3 3 4 4 4]]\nmode='minimum'\n[[1 1 1 2 1 1]\n [1 1 1 2 1 1]\n [1 1 1 2 1 1]\n [3 3 3 4 3 3]\n [1 1 1 2 1 1]\n [1 1 1 2 1 1]]\nmode='symmetric'\n[[4 3 3 4 4 3]\n [2 1 1 2 2 1]\n [2 1 1 2 2 1]\n [4 3 3 4 4 3]\n [4 3 3 4 4 3]\n [2 1 1 2 2 1]]\nmode='wrap'\n[[1 2 1 2 1 2]\n [3 4 3 4 3 4]\n [1 2 1 2 1 2]\n [3 4 3 4 3 4]\n [1 2 1 2 1 2]\n [3 4 3 4 3 4]]\n"
    }
   ],
   "source": [
    "# You can also pad with different modes such as constant, edge, linear_ramp, min/maximum, mean, median, reflect, symmetric, wrap\n",
    "print(\"mode='edge'\")\n",
    "print(np.pad(z, 2, 'edge'))\n",
    "print(\"mode='minimum'\")\n",
    "print(np.pad(z, 2, 'minimum'))\n",
    "print(\"mode='symmetric'\")\n",
    "print(np.pad(z, 2, 'symmetric'))\n",
    "print(\"mode='wrap'\")\n",
    "print(np.pad(z, 2, 'wrap'))\n"
   ]
  },
  {
   "cell_type": "markdown",
   "metadata": {},
   "source": [
    "What is the result of expressions using `np.nan`?"
   ]
  },
  {
   "cell_type": "code",
   "execution_count": 29,
   "metadata": {},
   "outputs": [
    {
     "name": "stdout",
     "output_type": "stream",
     "text": "\nMathematical operations using nan => nan\n3 * np.nan = nan\nnp.nan + 3 = nan\nmin(np.nan, 3) = nan\n\nBooleans using nan evaluate to False\nnp.inf > np.nan = False\nnp.nan == np.nan = False\n\nCheck nan in object\nnp.nan in [1, 2, 3, np.nan] = True\n"
    }
   ],
   "source": [
    "# Mathematical operations using nan evaluate to nan\n",
    "print('\\nMathematical operations using nan => nan')\n",
    "print('3 * np.nan =', 3 * np.nan)\n",
    "print('np.nan + 3 =', 3 + np.nan)\n",
    "print('min(np.nan, 3) =', min(np.nan,3))\n",
    "\n",
    "# Booleans become false\n",
    "print('\\nBooleans using nan evaluate to False')\n",
    "print('np.inf > np.nan =', np.inf > np.nan)\n",
    "print('np.nan == np.nan =', np.nan == np.nan)\n",
    "\n",
    "# But you can check if nan is in a collection object\n",
    "print('\\nCheck nan in object')\n",
    "print('np.nan in [1, 2, 3, np.nan] =', np.nan in [1, 2, 3, np.nan])"
   ]
  },
  {
   "cell_type": "markdown",
   "metadata": {},
   "source": [
    "Create a 5x5 matrix with 1, 2, 3, 4 just below the diagonal"
   ]
  },
  {
   "cell_type": "code",
   "execution_count": 30,
   "metadata": {},
   "outputs": [
    {
     "data": {
      "text/plain": "array([[0, 0, 0, 0, 0],\n       [1, 0, 0, 0, 0],\n       [0, 2, 0, 0, 0],\n       [0, 0, 3, 0, 0],\n       [0, 0, 0, 4, 0]])"
     },
     "execution_count": 30,
     "metadata": {},
     "output_type": "execute_result"
    }
   ],
   "source": [
    "np.diag(range(1,5), k=-1)"
   ]
  },
  {
   "cell_type": "markdown",
   "metadata": {},
   "source": [
    "Create an 8x8 checkerboard pattern"
   ]
  },
  {
   "cell_type": "code",
   "execution_count": 40,
   "metadata": {},
   "outputs": [
    {
     "name": "stdout",
     "output_type": "stream",
     "text": "Method 1 - Set Alternate Elements\n[[0 1 0 1 0 1 0 1]\n [1 0 1 0 1 0 1 0]\n [0 1 0 1 0 1 0 1]\n [1 0 1 0 1 0 1 0]\n [0 1 0 1 0 1 0 1]\n [1 0 1 0 1 0 1 0]\n [0 1 0 1 0 1 0 1]\n [1 0 1 0 1 0 1 0]]\n\nMethod 2 - Tile Identity Matrix\n[[1 0 1 0 1 0 1 0]\n [0 1 0 1 0 1 0 1]\n [1 0 1 0 1 0 1 0]\n [0 1 0 1 0 1 0 1]\n [1 0 1 0 1 0 1 0]\n [0 1 0 1 0 1 0 1]\n [1 0 1 0 1 0 1 0]\n [0 1 0 1 0 1 0 1]]\n\nMethod 3 - Pad (reflect mode) Identity Matrix\n[[1 0 1 0 1 0 1 0]\n [0 1 0 1 0 1 0 1]\n [1 0 1 0 1 0 1 0]\n [0 1 0 1 0 1 0 1]\n [1 0 1 0 1 0 1 0]\n [0 1 0 1 0 1 0 1]\n [1 0 1 0 1 0 1 0]\n [0 1 0 1 0 1 0 1]]\n"
    }
   ],
   "source": [
    "print('Method 1 - Set Alternate Elements')\n",
    "z = np.zeros((8,8), dtype=int)\n",
    "z[::2,1::2] = 1\n",
    "z[1::2,::2] = 1\n",
    "print(z)\n",
    "\n",
    "print('\\nMethod 2 - Tile Identity Matrix')\n",
    "z = np.tile(np.eye(2, dtype=int), (4,4))\n",
    "print(z)\n",
    "\n",
    "print('\\nMethod 3 - Pad (reflect mode) Identity Matrix')\n",
    "z = np.pad(np.eye(2, dtype=int), 3, mode='reflect')\n",
    "print(z)"
   ]
  },
  {
   "cell_type": "markdown",
   "metadata": {},
   "source": [
    "Normalize a 5x5 Matrix"
   ]
  },
  {
   "cell_type": "code",
   "execution_count": 64,
   "metadata": {},
   "outputs": [
    {
     "name": "stdout",
     "output_type": "stream",
     "text": [
      "z is [[0.06609379 0.39518211 0.63287643 0.15711136 0.98995194]\n",
      " [0.36748568 0.52295616 0.11786199 0.09628768 0.07920712]\n",
      " [0.79114262 0.22097182 0.51037233 0.43329857 0.15981199]\n",
      " [0.69727677 0.67124343 0.10001057 0.86560445 0.02867618]\n",
      " [0.75956445 0.09116535 0.63379101 0.52762279 0.99131103]]\n",
      "Z is [[-1.21030931 -0.13435371  0.64278883 -0.91272698  1.81024864]\n",
      " [-0.22490729  0.28340407 -1.04105296 -1.11159027 -1.16743522]\n",
      " [ 1.16024076 -0.70393495  0.24226119 -0.0097318  -0.90389727]\n",
      " [ 0.85334599  0.76822989 -1.09941824  1.40369402 -1.33264632]\n",
      " [ 1.05699582 -1.12833774  0.64577904  0.29866161  1.81469219]]\n"
     ]
    }
   ],
   "source": [
    "z = np.random.random((5,5))\n",
    "print('z is', z)\n",
    "\n",
    "# Normalize\n",
    "z = (z - z.mean()) / z.std()\n",
    "print('Z is', z)"
   ]
  },
  {
   "cell_type": "markdown",
   "metadata": {},
   "source": [
    "Create a custom dtype to describe a color as 4 unsigned bytes"
   ]
  },
  {
   "cell_type": "code",
   "execution_count": 42,
   "metadata": {},
   "outputs": [
    {
     "data": {
      "text/plain": "dtype([('R', 'u1'), ('G', 'u1'), ('B', 'u1'), ('A', 'u1')])"
     },
     "execution_count": 42,
     "metadata": {},
     "output_type": "execute_result"
    }
   ],
   "source": [
    "color = np.dtype([('R', np.ubyte),\n",
    "                  ('G', np.ubyte),\n",
    "                  ('B', np.ubyte),\n",
    "                  ('A', np.ubyte)])\n",
    "color"
   ]
  },
  {
   "cell_type": "code",
   "execution_count": 43,
   "metadata": {},
   "outputs": [
    {
     "data": {
      "text/plain": "array([(255, 0, 0, 0)],\n      dtype=[('R', 'u1'), ('G', 'u1'), ('B', 'u1'), ('A', 'u1')])"
     },
     "execution_count": 43,
     "metadata": {},
     "output_type": "execute_result"
    }
   ],
   "source": [
    "# Use the color dtype\n",
    "z = np.array([(255, 0, 0, 0)], dtype=color)\n",
    "z"
   ]
  },
  {
   "cell_type": "markdown",
   "metadata": {},
   "source": [
    "Multiply a 3x5 matrix with a 5x2 matrix"
   ]
  },
  {
   "cell_type": "code",
   "execution_count": 44,
   "metadata": {},
   "outputs": [
    {
     "name": "stdout",
     "output_type": "stream",
     "text": "A x B = [[128  79]\n [204 155]\n [ 72  60]]\nA x B = [[128  79]\n [204 155]\n [ 72  60]]\n"
    }
   ],
   "source": [
    "A = np.random.randint(10, size=(3,5))\n",
    "B = np.random.randint(10, size=(5,2))\n",
    "print('A x B =', np.dot(A, B))\n",
    "\n",
    "# Use @ sign shortcut for matrix multiplication\n",
    "print('A x B =', A @ B)"
   ]
  },
  {
   "cell_type": "markdown",
   "metadata": {},
   "source": [
    "Negate all elements between 3 and 8"
   ]
  },
  {
   "cell_type": "code",
   "execution_count": 46,
   "metadata": {},
   "outputs": [
    {
     "data": {
      "text/plain": "array([ 0,  1,  2,  3, -4, -5, -6, -7,  8,  9, 10])"
     },
     "execution_count": 46,
     "metadata": {},
     "output_type": "execute_result"
    }
   ],
   "source": [
    "z = np.arange(11)\n",
    "z[(z > 3) & (z < 8)] *= -1\n",
    "z"
   ]
  },
  {
   "cell_type": "markdown",
   "metadata": {},
   "source": [
    "Compare the output"
   ]
  },
  {
   "cell_type": "code",
   "execution_count": 106,
   "metadata": {},
   "outputs": [
    {
     "name": "stdout",
     "output_type": "stream",
     "text": "9\n10\n"
    }
   ],
   "source": [
    "print(sum(range(5), -1))\n",
    "# 9\n",
    "print(np.sum(range(5), -1))\n",
    "# 10"
   ]
  },
  {
   "cell_type": "code",
   "execution_count": 117,
   "metadata": {},
   "outputs": [
    {
     "name": "stdout",
     "output_type": "stream",
     "text": "99\n[[1 2]\n [3 4]]\nSum along axis = 0 (v) [4 6]\nSum along axis = 1 (h) [3 7]\nSum along axis = -1 (h) [3 7]\n"
    }
   ],
   "source": [
    "# The second (start) parameter in default sum adds a constant number.\n",
    "print(sum([], 99))\n",
    "\n",
    "# The second parameter (axis) in np.sum specifies the direction\n",
    "z = np.array([[1,2],[3,4]])\n",
    "print(z)\n",
    "print('Sum along axis = 0 (v)', z.sum(0))\n",
    "print('Sum along axis = 1 (h)', z.sum(1))\n",
    "print('Sum along axis = -1 (h)', z.sum(-1))"
   ]
  },
  {
   "cell_type": "markdown",
   "metadata": {},
   "source": [
    "Which are legal for an integer vector?"
   ]
  },
  {
   "cell_type": "code",
   "execution_count": 122,
   "metadata": {},
   "outputs": [
    {
     "name": "stdout",
     "output_type": "stream",
     "text": "z = [0 1 2 3 4 5]\nz ** z = [   1    1    4   27  256 3125]\nz << 2 = [ 0  4  8 12 16 20]\nz <- z = [False False False False False False]\n1j * z = [0.+0.j 0.+1.j 0.+2.j 0.+3.j 0.+4.j 0.+5.j]\nz / 1 / 1 = [0. 1. 2. 3. 4. 5.]\n"
    }
   ],
   "source": [
    "z = np.arange(6)\n",
    "print('z =', z)\n",
    "print('z ** z =', z ** z)\n",
    "# Divide each element by 2^2\n",
    "print('z << 2 =', z << 2)\n",
    "print('z <- z =', z < -z)\n",
    "print('1j * z =', 1j * z)\n",
    "print('z / 1 / 1 =', z / 1 / 1)"
   ]
  },
  {
   "cell_type": "code",
   "execution_count": 161,
   "metadata": {},
   "outputs": [
    {
     "name": "stdout",
     "output_type": "stream",
     "text": "Operator precedence\n*******************\n\nThe following table summarizes the operator precedence in Python, from\nlowest precedence (least binding) to highest precedence (most\nbinding).  Operators in the same box have the same precedence.  Unless\nthe syntax is explicitly given, operators are binary.  Operators in\nthe same box group left to right (except for exponentiation, which\ngroups from right to left).\n\nNote that comparisons, membership tests, and identity tests, all have\nthe same precedence and have a left-to-right chaining feature as\ndescribed in the Comparisons section.\n\n+-------------------------------------------------+---------------------------------------+\n| Operator                                        | Description                           |\n|=================================================|=======================================|\n| \"lambda\"                                        | Lambda expression                     |\n+-------------------------------------------------+---------------------------------------+\n| \"if\" – \"else\"                                   | Conditional expression                |\n+-------------------------------------------------+---------------------------------------+\n| \"or\"                                            | Boolean OR                            |\n+-------------------------------------------------+---------------------------------------+\n| \"and\"                                           | Boolean AND                           |\n+-------------------------------------------------+---------------------------------------+\n| \"not\" \"x\"                                       | Boolean NOT                           |\n+-------------------------------------------------+---------------------------------------+\n| \"in\", \"not in\", \"is\", \"is not\", \"<\", \"<=\", \">\", | Comparisons, including membership     |\n| \">=\", \"!=\", \"==\"                                | tests and identity tests              |\n+-------------------------------------------------+---------------------------------------+\n| \"|\"                                             | Bitwise OR                            |\n+-------------------------------------------------+---------------------------------------+\n| \"^\"                                             | Bitwise XOR                           |\n+-------------------------------------------------+---------------------------------------+\n| \"&\"                                             | Bitwise AND                           |\n+-------------------------------------------------+---------------------------------------+\n| \"<<\", \">>\"                                      | Shifts                                |\n+-------------------------------------------------+---------------------------------------+\n| \"+\", \"-\"                                        | Addition and subtraction              |\n+-------------------------------------------------+---------------------------------------+\n| \"*\", \"@\", \"/\", \"//\", \"%\"                        | Multiplication, matrix                |\n|                                                 | multiplication, division, floor       |\n|                                                 | division, remainder [5]               |\n+-------------------------------------------------+---------------------------------------+\n| \"+x\", \"-x\", \"~x\"                                | Positive, negative, bitwise NOT       |\n+-------------------------------------------------+---------------------------------------+\n| \"**\"                                            | Exponentiation [6]                    |\n+-------------------------------------------------+---------------------------------------+\n| \"await\" \"x\"                                     | Await expression                      |\n+-------------------------------------------------+---------------------------------------+\n| \"x[index]\", \"x[index:index]\",                   | Subscription, slicing, call,          |\n| \"x(arguments...)\", \"x.attribute\"                | attribute reference                   |\n+-------------------------------------------------+---------------------------------------+\n| \"(expressions...)\", \"[expressions...]\", \"{key:  | Binding or tuple display, list        |\n| value...}\", \"{expressions...}\"                  | display, dictionary display, set      |\n|                                                 | display                               |\n+-------------------------------------------------+---------------------------------------+\n\n-[ Footnotes ]-\n\n[1] While \"abs(x%y) < abs(y)\" is true mathematically, for floats\n    it may not be true numerically due to roundoff.  For example, and\n    assuming a platform on which a Python float is an IEEE 754 double-\n    precision number, in order that \"-1e-100 % 1e100\" have the same\n    sign as \"1e100\", the computed result is \"-1e-100 + 1e100\", which\n    is numerically exactly equal to \"1e100\".  The function\n    \"math.fmod()\" returns a result whose sign matches the sign of the\n    first argument instead, and so returns \"-1e-100\" in this case.\n    Which approach is more appropriate depends on the application.\n\n[2] If x is very close to an exact integer multiple of y, it’s\n    possible for \"x//y\" to be one larger than \"(x-x%y)//y\" due to\n    rounding.  In such cases, Python returns the latter result, in\n    order to preserve that \"divmod(x,y)[0] * y + x % y\" be very close\n    to \"x\".\n\n[3] The Unicode standard distinguishes between *code points* (e.g.\n    U+0041) and *abstract characters* (e.g. “LATIN CAPITAL LETTER A”).\n    While most abstract characters in Unicode are only represented\n    using one code point, there is a number of abstract characters\n    that can in addition be represented using a sequence of more than\n    one code point.  For example, the abstract character “LATIN\n    CAPITAL LETTER C WITH CEDILLA” can be represented as a single\n    *precomposed character* at code position U+00C7, or as a sequence\n    of a *base character* at code position U+0043 (LATIN CAPITAL\n    LETTER C), followed by a *combining character* at code position\n    U+0327 (COMBINING CEDILLA).\n\n    The comparison operators on strings compare at the level of\n    Unicode code points. This may be counter-intuitive to humans.  For\n    example, \"\"\\u00C7\" == \"\\u0043\\u0327\"\" is \"False\", even though both\n    strings represent the same abstract character “LATIN CAPITAL\n    LETTER C WITH CEDILLA”.\n\n    To compare strings at the level of abstract characters (that is,\n    in a way intuitive to humans), use \"unicodedata.normalize()\".\n\n[4] Due to automatic garbage-collection, free lists, and the\n    dynamic nature of descriptors, you may notice seemingly unusual\n    behaviour in certain uses of the \"is\" operator, like those\n    involving comparisons between instance methods, or constants.\n    Check their documentation for more info.\n\n[5] The \"%\" operator is also used for string formatting; the same\n    precedence applies.\n\n[6] The power operator \"**\" binds less tightly than an arithmetic\n    or bitwise unary operator on its right, that is, \"2**-1\" is \"0.5\".\n\nRelated help topics: lambda, or, and, not, in, is, BOOLEAN, COMPARISON,\nBITWISE, SHIFTING, BINARY, FORMATTING, POWER, UNARY, ATTRIBUTES,\nSUBSCRIPTS, SLICINGS, CALLS, TUPLES, LISTS, DICTIONARIES, BITWISE\n\n"
    }
   ],
   "source": [
    "help('<<')"
   ]
  },
  {
   "cell_type": "markdown",
   "metadata": {},
   "source": [
    "What are the results of the following expressions?"
   ]
  },
  {
   "cell_type": "code",
   "execution_count": 162,
   "metadata": {},
   "outputs": [
    {
     "name": "stdout",
     "output_type": "stream",
     "text": "nan\n0\n-2147483648\nC:\\Users\\Philip\\Anaconda3\\lib\\site-packages\\ipykernel_launcher.py:1: RuntimeWarning: invalid value encountered in true_divide\n  \"\"\"Entry point for launching an IPython kernel.\nC:\\Users\\Philip\\Anaconda3\\lib\\site-packages\\ipykernel_launcher.py:3: RuntimeWarning: divide by zero encountered in floor_divide\n  This is separate from the ipykernel package so we can avoid doing imports until\n"
    }
   ],
   "source": [
    "print(np.array(0) / np.array(0))\n",
    "# nan ...and a warning\n",
    "print(np.array(0) // np.array(0))\n",
    "# 0 ...and another warning\n",
    "print(np.array(np.nan).astype(int))\n",
    "# -2147483648 ... = 2 ^ 31\n"
   ]
  },
  {
   "cell_type": "markdown",
   "metadata": {},
   "source": [
    "How to round away from zero"
   ]
  },
  {
   "cell_type": "code",
   "execution_count": 163,
   "metadata": {},
   "outputs": [
    {
     "name": "stdout",
     "output_type": "stream",
     "text": "z = [-2.50602502  1.07879637 -6.83324231  1.25776002 -9.36581791  1.49789111\n  6.59034853 -8.03355807 -7.51039319  0.0730206 ]\nz rounded away from 0 = [ -3.   2.  -7.   2. -10.   2.   7.  -9.  -8.   1.]\n"
    }
   ],
   "source": [
    "z = np.random.uniform(-10, 10, 10)\n",
    "print('z =', z)\n",
    "z = np.copysign(np.ceil(np.abs(z)), z)\n",
    "print('z rounded away from 0 =', z)"
   ]
  },
  {
   "cell_type": "code",
   "execution_count": 165,
   "metadata": {},
   "outputs": [
    {
     "name": "stderr",
     "output_type": "stream",
     "text": "C:\\Users\\Philip\\Anaconda3\\lib\\site-packages\\ipykernel_launcher.py:3: RuntimeWarning: divide by zero encountered in true_divide\n  This is separate from the ipykernel package so we can avoid doing imports until\n"
    }
   ],
   "source": [
    "# Suicide mode on\n",
    "# defaults = np.seterr(all=\"ignore\")\n",
    "Z = np.ones(1) / 0\n",
    "\n",
    "# Back to sanity\n",
    "# _ = np.seterr(**defaults)"
   ]
  },
  {
   "cell_type": "code",
   "execution_count": 167,
   "metadata": {},
   "outputs": [],
   "source": [
    "with np.errstate(divide='ignore'):\n",
    "    z = np.ones(1) / 0"
   ]
  },
  {
   "cell_type": "code",
   "execution_count": 169,
   "metadata": {},
   "outputs": [
    {
     "name": "stdout",
     "output_type": "stream",
     "text": "np.sqrt(-1) = nan\nnp.emath.sqrt(-1) = 1j\nnp.sqrt(-1) == np.emath.sqrt(-1) False\nC:\\Users\\Philip\\Anaconda3\\lib\\site-packages\\ipykernel_launcher.py:1: RuntimeWarning: invalid value encountered in sqrt\n  \"\"\"Entry point for launching an IPython kernel.\nC:\\Users\\Philip\\Anaconda3\\lib\\site-packages\\ipykernel_launcher.py:5: RuntimeWarning: invalid value encountered in sqrt\n  \"\"\"\n"
    }
   ],
   "source": [
    "print('np.sqrt(-1) =', np.sqrt(-1))\n",
    "# np.nan\n",
    "print('np.emath.sqrt(-1) =', np.emath.sqrt(-1))\n",
    "# 1j\n",
    "print('np.sqrt(-1) == np.emath.sqrt(-1)', np.sqrt(-1) == np.emath.sqrt(-1))"
   ]
  },
  {
   "cell_type": "markdown",
   "metadata": {},
   "source": [
    "Get the datetime of today, yesterday and tomorrow"
   ]
  },
  {
   "cell_type": "code",
   "execution_count": 170,
   "metadata": {},
   "outputs": [
    {
     "name": "stdout",
     "output_type": "stream",
     "text": "Today is 2019-12-29\nYesterday is 2019-12-28\nTomorrow is 2019-12-30\n"
    }
   ],
   "source": [
    "print('Today is', np.datetime64('today'))\n",
    "print('Yesterday is', np.datetime64('today') - np.timedelta64(1))\n",
    "print('Tomorrow is', np.datetime64('today') + np.timedelta64(1))"
   ]
  },
  {
   "cell_type": "code",
   "execution_count": 171,
   "metadata": {},
   "outputs": [
    {
     "name": "stdout",
     "output_type": "stream",
     "text": "It is 27 days days until my birthday\n"
    }
   ],
   "source": [
    "print('It is', np.datetime64('2020-01-25') - np.datetime64('today'), 'days until my birthday')"
   ]
  },
  {
   "cell_type": "markdown",
   "metadata": {},
   "source": [
    "Get all days in January 2020"
   ]
  },
  {
   "cell_type": "code",
   "execution_count": 172,
   "metadata": {},
   "outputs": [
    {
     "data": {
      "text/plain": "array(['2020-01-01', '2020-01-02', '2020-01-03', '2020-01-04',\n       '2020-01-05', '2020-01-06', '2020-01-07', '2020-01-08',\n       '2020-01-09', '2020-01-10', '2020-01-11', '2020-01-12',\n       '2020-01-13', '2020-01-14', '2020-01-15', '2020-01-16',\n       '2020-01-17', '2020-01-18', '2020-01-19', '2020-01-20',\n       '2020-01-21', '2020-01-22', '2020-01-23', '2020-01-24',\n       '2020-01-25', '2020-01-26', '2020-01-27', '2020-01-28',\n       '2020-01-29', '2020-01-30', '2020-01-31'], dtype='datetime64[D]')"
     },
     "execution_count": 172,
     "metadata": {},
     "output_type": "execute_result"
    }
   ],
   "source": [
    "today = np.datetime64('2020-01')\n",
    "month = np.timedelta64(1, 'M')\n",
    "np.arange(today, today + month, dtype='datetime64[D]')\n",
    "# np.arange('2020-01-01', '2020-02-01', dtype='datetime64')"
   ]
  },
  {
   "cell_type": "markdown",
   "metadata": {},
   "source": [
    "Compute ((A+B)*(-A/2)) in place (without copy)?"
   ]
  },
  {
   "cell_type": "code",
   "execution_count": 173,
   "metadata": {},
   "outputs": [
    {
     "name": "stdout",
     "output_type": "stream",
     "text": "[-1.5 -1.5 -1.5]\n[-1.5 -1.5 -1.5]\n"
    }
   ],
   "source": [
    "A = 1 * np.ones(3)\n",
    "B = 2 * np.ones(3)\n",
    "\n",
    "print((A+B) * (-A/2))\n",
    "\n",
    "# In place\n",
    "np.add(A, B, out=B)\n",
    "np.divide(-A, 2, out=A)\n",
    "np.multiply(A, B, out=A)\n",
    "print(A)"
   ]
  },
  {
   "cell_type": "markdown",
   "metadata": {},
   "source": [
    "Extract the integer part of an array"
   ]
  },
  {
   "cell_type": "code",
   "execution_count": 175,
   "metadata": {},
   "outputs": [
    {
     "name": "stdout",
     "output_type": "stream",
     "text": "[ 8.02 -7.08  1.9  -5.05  6.15  7.43 -2.07  8.29  5.68  1.59]\n[ 8. -8.  1. -6.  6.  7. -3.  8.  5.  1.]\n[ 8. -8.  1. -6.  6.  7. -3.  8.  5.  1.]\n[ 8. -8.  1. -6.  6.  7. -3.  8.  5.  1.]\n[ 8. -8.  1. -6.  6.  7. -3.  8.  5.  1.]\n[ 8. -7.  1. -5.  6.  7. -2.  8.  5.  1.]\n[ 8 -7  1 -5  6  7 -2  8  5  1]\n"
    }
   ],
   "source": [
    "z = np.round(np.random.uniform(-10,10,10), 2)\n",
    "print(z)\n",
    "# Round down\n",
    "print(z - z%1)\n",
    "# Round down\n",
    "print(z // 1)\n",
    "# Round down\n",
    "print(np.floor(z))\n",
    "# Round down\n",
    "print(np.ceil(z)-1)\n",
    "# Remove the fractional part -> move closer to zero\n",
    "print(np.trunc(z))\n",
    "# Remove the fractional part -> move closer to zero\n",
    "print(z.astype(int))"
   ]
  },
  {
   "cell_type": "markdown",
   "metadata": {},
   "source": [
    "Create a 5x5 matrix with row values ranging from 0 to 4"
   ]
  },
  {
   "cell_type": "code",
   "execution_count": 176,
   "metadata": {},
   "outputs": [
    {
     "name": "stdout",
     "output_type": "stream",
     "text": "[[0 1 2 3 4]\n [0 1 2 3 4]\n [0 1 2 3 4]\n [0 1 2 3 4]\n [0 1 2 3 4]]\n"
    }
   ],
   "source": [
    "z = np.tile(np.arange(5), (5,1))\n",
    "print(z)"
   ]
  }
 ],
 "metadata": {
  "kernelspec": {
   "display_name": "Python 3",
   "language": "python",
   "name": "python3"
  },
  "language_info": {
   "codemirror_mode": {
    "name": "ipython",
    "version": 3
   },
   "file_extension": ".py",
   "mimetype": "text/x-python",
   "name": "python",
   "nbconvert_exporter": "python",
   "pygments_lexer": "ipython3",
   "version": "3.7.4"
  }
 },
 "nbformat": 4,
 "nbformat_minor": 4
}